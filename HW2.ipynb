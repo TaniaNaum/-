{
  "nbformat": 4,
  "nbformat_minor": 0,
  "metadata": {
    "colab": {
      "provenance": []
    },
    "kernelspec": {
      "name": "python3",
      "display_name": "Python 3"
    },
    "language_info": {
      "name": "python"
    }
  },
  "cells": [
    {
      "cell_type": "markdown",
      "source": [
        "`#1.Создать кортеж, содержащий 4 разных числа. Вывести на экран значение второго элемента кортежа`"
      ],
      "metadata": {
        "id": "7QXRv9JupvmL"
      }
    },
    {
      "cell_type": "code",
      "execution_count": null,
      "metadata": {
        "colab": {
          "base_uri": "https://localhost:8080/"
        },
        "id": "oEWpdB4_pEJd",
        "outputId": "e0feabe4-7616-4f6c-d80f-dde8ba593689"
      },
      "outputs": [
        {
          "output_type": "stream",
          "name": "stdout",
          "text": [
            "Первое число: 13\n",
            "Второе число: 45\n",
            "Третье число: 28\n",
            "Четвертое число: 39\n",
            "Вывести второе число: 45\n"
          ]
        }
      ],
      "source": [
        "numbers = (13, 45, 28, 39)\n",
        "print(\"Первое число:\", numbers[0])\n",
        "print(\"Второе число:\", numbers[1])\n",
        "print(\"Третье число:\", numbers[2])\n",
        "print(\"Четвертое число:\", numbers[3])\n",
        "print(\"Вывести второе число:\", numbers[1])"
      ]
    },
    {
      "cell_type": "markdown",
      "source": [
        "\n",
        "\n",
        "```\n",
        "#2. Создать список и добавить в него 5 различных элементов. Вывести содержимое списка на экран.\n",
        "\n",
        "```\n",
        "\n"
      ],
      "metadata": {
        "id": "2DRXG-5Cpu9N"
      }
    },
    {
      "cell_type": "code",
      "source": [
        "List = [\"Apple\", \"banana\", \"milk\",\"chiken\",\"black tea\", \"fish\", \"tomatoes\", \"rice\", \"flowers\" ] # 1.\n",
        "print(f'Текущий список  {List}')\n",
        "f = input(\"Введите название:\\n\")\n",
        "List.insert(2,f)\n",
        "print(f'Новый список {List}')\n",
        "f = input(\"Введите название:\\n\")\n",
        "List.insert(5,f)\n",
        "print(f'Новый список {List}')\n",
        "f = input(\"Введите название:\\n\")\n",
        "List.insert(0,f)\n",
        "print(f'Новый список {List}')\n",
        "f = input(\"Введите название:\\n\")\n",
        "List.insert(7,f)\n",
        "print(f'Новый список {List}')\n",
        "f = input(\"Введите название:\\n\")\n",
        "List.append(f)\n",
        "print(f'Новый список {List}')"
      ],
      "metadata": {
        "colab": {
          "base_uri": "https://localhost:8080/"
        },
        "id": "1XrSSlFTqXJL",
        "outputId": "64f55db5-7e08-4711-bdee-213549781582"
      },
      "execution_count": null,
      "outputs": [
        {
          "output_type": "stream",
          "name": "stdout",
          "text": [
            "Текущий список  ['Apple', 'banana', 'milk', 'chiken', 'black tea', 'fish', 'tomatoes', 'rice', 'flowers']\n",
            "Введите название:\n",
            "Вино\n",
            "Новый список ['Apple', 'banana', 'Вино', 'milk', 'chiken', 'black tea', 'fish', 'tomatoes', 'rice', 'flowers']\n",
            "Введите название:\n",
            "Свечи\n",
            "Новый список ['Apple', 'banana', 'Вино', 'milk', 'chiken', 'Свечи', 'black tea', 'fish', 'tomatoes', 'rice', 'flowers']\n",
            "Введите название:\n",
            "Набор столовых приборов\n",
            "Новый список ['Набор столовых приборов', 'Apple', 'banana', 'Вино', 'milk', 'chiken', 'Свечи', 'black tea', 'fish', 'tomatoes', 'rice', 'flowers']\n",
            "Введите название:\n",
            "Игрушка-гусь\n",
            "Новый список ['Набор столовых приборов', 'Apple', 'banana', 'Вино', 'milk', 'chiken', 'Свечи', 'Игрушка-гусь', 'black tea', 'fish', 'tomatoes', 'rice', 'flowers']\n",
            "Введите название:\n",
            "Кружка\n",
            "Новый список ['Набор столовых приборов', 'Apple', 'banana', 'Вино', 'milk', 'chiken', 'Свечи', 'Игрушка-гусь', 'black tea', 'fish', 'tomatoes', 'rice', 'flowers', 'Кружка']\n"
          ]
        }
      ]
    },
    {
      "cell_type": "code",
      "source": [],
      "metadata": {
        "id": "BlFHT0iXroRr"
      },
      "execution_count": null,
      "outputs": []
    }
  ]
}
