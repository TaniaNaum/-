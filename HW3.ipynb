{
  "nbformat": 4,
  "nbformat_minor": 0,
  "metadata": {
    "colab": {
      "provenance": [],
      "authorship_tag": "ABX9TyOtwtDkadl32jFzBkskt1x7",
      "include_colab_link": true
    },
    "kernelspec": {
      "name": "python3",
      "display_name": "Python 3"
    },
    "language_info": {
      "name": "python"
    }
  },
  "cells": [
    {
      "cell_type": "markdown",
      "metadata": {
        "id": "view-in-github",
        "colab_type": "text"
      },
      "source": [
        "<a href=\"https://colab.research.google.com/github/TaniaNaum/-/blob/main/HW3.ipynb\" target=\"_parent\"><img src=\"https://colab.research.google.com/assets/colab-badge.svg\" alt=\"Open In Colab\"/></a>"
      ]
    },
    {
      "cell_type": "code",
      "execution_count": 8,
      "metadata": {
        "colab": {
          "base_uri": "https://localhost:8080/"
        },
        "id": "FEsSzbg4VDhW",
        "outputId": "3f6211a0-c4c4-4346-b951-b8183c6deb64"
      },
      "outputs": [
        {
          "output_type": "stream",
          "name": "stdout",
          "text": [
            "Audi Q7 2015 black \n"
          ]
        }
      ],
      "source": [
        "#4\n",
        "class Car:\n",
        "    def __init__(self, mark, model, year, color):\n",
        "        self.mark = mark\n",
        "        self.model = model\n",
        "        self.year = year\n",
        "        self.color = color\n",
        "\n",
        "\n",
        "    def display_info(self):\n",
        "        print(f\"{self.mark} {self.model} {self.year} {self.color} \")\n",
        "\n",
        "my_car = Car(\"Audi\", \"Q7\", 2015, \"black\")\n",
        "my_car.display_info()\n",
        "\n"
      ]
    },
    {
      "cell_type": "code",
      "source": [
        "\n",
        "#4(2)\n",
        "class Car:\n",
        "    def __init__(self, mark, model, year, color):\n",
        "        self.mark = mark\n",
        "        self.model = model\n",
        "        self.year = year\n",
        "        self.color = color\n",
        "\n",
        "\n",
        "my_car = Car(\"Audi\", \"Q7\", 2015, \"black\")\n",
        "print(my_car.mark)\n",
        "print(my_car.model)\n",
        "print(my_car.year)\n",
        "print(my_car.color)"
      ],
      "metadata": {
        "colab": {
          "base_uri": "https://localhost:8080/"
        },
        "id": "VK57qD2QZ3-O",
        "outputId": "1381451b-82a6-4bf7-ab75-54c79f265ae2"
      },
      "execution_count": 9,
      "outputs": [
        {
          "output_type": "stream",
          "name": "stdout",
          "text": [
            "Audi\n",
            "Q7\n",
            "2015\n",
            "black\n"
          ]
        }
      ]
    },
    {
      "cell_type": "code",
      "source": [
        "#6\n",
        "class ElectricCar(Car):\n",
        "    def __init__(self, mark,model,year, color, battery_size):\n",
        "        super().__init__(mark,model,year, color)\n",
        "        self.battery_size=battery_size\n",
        "        self.Class='ElectricСar'\n",
        "\n",
        "    def display_info(self):\n",
        "        print (f\"Electric: {self.mark} {self.model} {self.year} {self.battery_size}\")\n",
        "\n",
        "electric_Сar = ElectricCar(\"Tesla\", \"X\", 2022, \"white\", 75)\n",
        "electric_Сar.display_info()\n"
      ],
      "metadata": {
        "colab": {
          "base_uri": "https://localhost:8080/"
        },
        "id": "nrC32sW_hya5",
        "outputId": "0ddf8950-5299-45ae-8249-7ebbb3dafd77"
      },
      "execution_count": 20,
      "outputs": [
        {
          "output_type": "stream",
          "name": "stdout",
          "text": [
            "Electric: Tesla X 2022 75\n"
          ]
        }
      ]
    },
    {
      "cell_type": "code",
      "source": [],
      "metadata": {
        "id": "9dIv5XcppuGB"
      },
      "execution_count": null,
      "outputs": []
    }
  ]
}