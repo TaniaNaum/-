{
  "nbformat": 4,
  "nbformat_minor": 0,
  "metadata": {
    "colab": {
      "provenance": [],
      "authorship_tag": "ABX9TyPtqF1i7ER+pUSYixvNvKp7",
      "include_colab_link": true
    },
    "kernelspec": {
      "name": "python3",
      "display_name": "Python 3"
    },
    "language_info": {
      "name": "python"
    }
  },
  "cells": [
    {
      "cell_type": "markdown",
      "metadata": {
        "id": "view-in-github",
        "colab_type": "text"
      },
      "source": [
        "<a href=\"https://colab.research.google.com/github/TaniaNaum/-/blob/main/HW1(%D0%B4%D0%BE%D1%80%D0%B0%D0%B1%D0%BE%D1%82%D0%B0%D0%BD%D0%BD%D0%BE%D0%B5).ipynb\" target=\"_parent\"><img src=\"https://colab.research.google.com/assets/colab-badge.svg\" alt=\"Open In Colab\"/></a>"
      ]
    },
    {
      "cell_type": "markdown",
      "source": [
        "`#1.Создать кортеж, содержащий 4 разных числа. Вывести на экран значение второго элемента кортежа`"
      ],
      "metadata": {
        "id": "7QXRv9JupvmL"
      }
    },
    {
      "cell_type": "code",
      "execution_count": null,
      "metadata": {
        "colab": {
          "base_uri": "https://localhost:8080/"
        },
        "id": "oEWpdB4_pEJd",
        "outputId": "e0feabe4-7616-4f6c-d80f-dde8ba593689"
      },
      "outputs": [
        {
          "output_type": "stream",
          "name": "stdout",
          "text": [
            "Первое число: 13\n",
            "Второе число: 45\n",
            "Третье число: 28\n",
            "Четвертое число: 39\n",
            "Вывести второе число: 45\n"
          ]
        }
      ],
      "source": [
        "numbers = (13, 45, 28, 39)\n",
        "print(\"Первое число:\", numbers[0])\n",
        "print(\"Второе число:\", numbers[1])\n",
        "print(\"Третье число:\", numbers[2])\n",
        "print(\"Четвертое число:\", numbers[3])\n",
        "print(\"Вывести второе число:\", numbers[1])"
      ]
    },
    {
      "cell_type": "markdown",
      "source": [
        "\n",
        "\n",
        "```\n",
        "#2. Создать список и добавить в него 5 различных элементов. Вывести содержимое списка на экран.\n",
        "\n",
        "```\n",
        "\n"
      ],
      "metadata": {
        "id": "2DRXG-5Cpu9N"
      }
    },
    {
      "cell_type": "code",
      "source": [
        "def sum(a, b):\n",
        "    return a + b\n",
        "def sub(a, b):\n",
        "    return a - b\n",
        "def mult(a, b):\n",
        "    return a * b\n",
        "def div(a, b):\n",
        "    return a / b\n",
        "\n",
        "def main():\n",
        "    while True:\n",
        "        try:\n",
        "\n",
        "            a = float(input(\"Введите первое число: \"))\n",
        "            b = float(input(\"Введите второе число: \"))\n",
        "            c = int(input(\"Номер операции:\\n1) +\\n2) -\\n3) *\\n4) /\\n\"))\n",
        "        except:\n",
        "            print(\"Ошибка, введите число, попробуйте ещё раз ...\\n\")\n",
        "            continue\n",
        "        break\n",
        "\n",
        "    cond = {1 : sum(a, b),\n",
        "            2 : sub(a, b),\n",
        "            3 : mult(a, b),\n",
        "            4 : div(a, b)}\n",
        "    # Выводим результат операции\n",
        "    print(cond[c])\n",
        "\n",
        "if __name__ == \"__main__\":\n",
        "    main()\n",
        "    print(\"Сложнасть алгоритма O(n)\")"
      ],
      "metadata": {
        "colab": {
          "base_uri": "https://localhost:8080/"
        },
        "id": "1XrSSlFTqXJL",
        "outputId": "f80c1628-f4ab-4e99-fc35-09a707a493c2"
      },
      "execution_count": null,
      "outputs": [
        {
          "output_type": "stream",
          "name": "stdout",
          "text": [
            "Введите первое число: 85\n",
            "Введите второе число: 56\n",
            "Номер операции:\n",
            "1) +\n",
            "2) -\n",
            "3) *\n",
            "4) /\n",
            "2\n",
            "29.0\n",
            "Сложнасть алгоритма O(n)\n"
          ]
        }
      ]
    },
    {
      "cell_type": "code",
      "source": [],
      "metadata": {
        "id": "BlFHT0iXroRr"
      },
      "execution_count": null,
      "outputs": []
    }
  ]
}